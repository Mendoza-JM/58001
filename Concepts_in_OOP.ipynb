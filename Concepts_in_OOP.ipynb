{
  "nbformat": 4,
  "nbformat_minor": 0,
  "metadata": {
    "colab": {
      "provenance": [],
      "authorship_tag": "ABX9TyMNhwWPn4iQDbzz/dHVrwlm",
      "include_colab_link": true
    },
    "kernelspec": {
      "name": "python3",
      "display_name": "Python 3"
    },
    "language_info": {
      "name": "python"
    }
  },
  "cells": [
    {
      "cell_type": "markdown",
      "metadata": {
        "id": "view-in-github",
        "colab_type": "text"
      },
      "source": [
        "<a href=\"https://colab.research.google.com/github/Mendoza-JM/OOP-58001/blob/main/Concepts_in_OOP.ipynb\" target=\"_parent\"><img src=\"https://colab.research.google.com/assets/colab-badge.svg\" alt=\"Open In Colab\"/></a>"
      ]
    },
    {
      "cell_type": "code",
      "execution_count": null,
      "metadata": {
        "id": "Y4ClJAbRPPM1"
      },
      "outputs": [],
      "source": [
        "#Class Constructor\n",
        "class Car:\n",
        "  pass"
      ]
    },
    {
      "cell_type": "code",
      "source": [
        "#Create a class\n",
        "\n",
        "class MyNumber:\n",
        "  x = 5\n",
        "\n",
        "num1 = MyNumber()\n",
        "print(num1.x)"
      ],
      "metadata": {
        "colab": {
          "base_uri": "https://localhost:8080/"
        },
        "id": "Rd9Dp-0oPc3h",
        "outputId": "04782a1b-3933-4920-e7bd-08fdcbc3162c"
      },
      "execution_count": 2,
      "outputs": [
        {
          "output_type": "stream",
          "name": "stdout",
          "text": [
            "5\n"
          ]
        }
      ]
    },
    {
      "cell_type": "code",
      "source": [
        "class Person:\n",
        "  def __init__(self,name,age):\n",
        "    self.name = name\n",
        "    self.age = age\n",
        "    \n",
        "person = Person(\"Jm\",\"19\")\n",
        "print(person.age)\n",
        "print(person.name)"
      ],
      "metadata": {
        "colab": {
          "base_uri": "https://localhost:8080/"
        },
        "id": "Xw1s7CmsP4YU",
        "outputId": "8fe157c7-1895-4f48-a663-d32f83002249"
      },
      "execution_count": 9,
      "outputs": [
        {
          "output_type": "stream",
          "name": "stdout",
          "text": [
            "19\n",
            "Jm\n"
          ]
        }
      ]
    },
    {
      "cell_type": "code",
      "source": [
        "class Person:\n",
        "  def __init__(self,name,age):\n",
        "    self.name = name\n",
        "    self.age = age\n",
        "  def myFunction(self):\n",
        "    print(\"Hello My name is\",self.name)\n",
        "person = Person(\"Jm\",\"19\")\n",
        "\n",
        "person.myFunction()"
      ],
      "metadata": {
        "colab": {
          "base_uri": "https://localhost:8080/"
        },
        "id": "zgTLop9aRReh",
        "outputId": "d5c83829-28bb-4976-b1ac-55c61281c513"
      },
      "execution_count": 10,
      "outputs": [
        {
          "output_type": "stream",
          "name": "stdout",
          "text": [
            "Hello My name is Jm\n"
          ]
        }
      ]
    },
    {
      "cell_type": "code",
      "source": [
        "#Modify the Object Properties\n",
        "\n",
        "person.name = \"JM\"\n",
        "print(person.name)\n",
        "person.myFunction()\n",
        "\n"
      ],
      "metadata": {
        "colab": {
          "base_uri": "https://localhost:8080/"
        },
        "id": "nXTeKPh2RiOU",
        "outputId": "df6ab774-5087-41f9-8c25-ac9ae127865b"
      },
      "execution_count": 11,
      "outputs": [
        {
          "output_type": "stream",
          "name": "stdout",
          "text": [
            "JM\n",
            "Hello My name is JM\n"
          ]
        }
      ]
    },
    {
      "cell_type": "code",
      "source": [
        "#Deletion of Object Properties\n",
        "\n",
        "del person.age\n",
        "person.myFunction()\n",
        "print(person.name)"
      ],
      "metadata": {
        "colab": {
          "base_uri": "https://localhost:8080/"
        },
        "id": "UchUvkFDSH2x",
        "outputId": "39ea7776-be06-446e-a812-1ff922ed62c8"
      },
      "execution_count": 12,
      "outputs": [
        {
          "output_type": "stream",
          "name": "stdout",
          "text": [
            "Hello My name is JM\n",
            "JM\n"
          ]
        }
      ]
    },
    {
      "cell_type": "code",
      "source": [
        "#Compute for the area of Square\n",
        "\n",
        "class Shapes:\n",
        "  def __init__(self,sides):       #inital fucntion to name the attributes\n",
        "    self.sides = sides\n",
        "  \n",
        "  def area(self):                 #formula to compute for the area\n",
        "    return self.sides*self.sides\n",
        "  \n",
        "  def display(self):               #method to display the area\n",
        "    print(\"The area of the square is\",self.area())\n",
        "\n",
        "square = Shapes(4)\n",
        "square.display()"
      ],
      "metadata": {
        "colab": {
          "base_uri": "https://localhost:8080/"
        },
        "id": "wXw1yfkmTBLr",
        "outputId": "3488c691-2ec8-4a45-db6f-ffadf9c510de"
      },
      "execution_count": 19,
      "outputs": [
        {
          "output_type": "stream",
          "name": "stdout",
          "text": [
            "The area of the square is 16\n"
          ]
        }
      ]
    },
    {
      "cell_type": "code",
      "source": [
        "#Create a python program with the following::\n",
        "#student as class name\n",
        "#Fullname, student Number, and school as attribute names\n",
        "#construct a mtehod to display the values of attributes\n",
        "#Use student as object name\n",
        "\n",
        "class Person:\n",
        "  def __init__(self,Fullname,StudentNo,school):\n",
        "    self.Fullname = Fullname\n",
        "    self.StudentNo = StudentNo\n",
        "    self.school = school\n",
        "  def myFunction(self):\n",
        "    print(\"Hello My name is\",self.Fullname)\n",
        "    print(\"My student number is\",self.StudentNo)\n",
        "    print(\"I study at\",self.school)\n",
        "    \n",
        "person = Person(\"Jan Mathew Mendoza\",\"202213385\",\"Adamson University\")\n",
        "\n",
        "person.myFunction()"
      ],
      "metadata": {
        "colab": {
          "base_uri": "https://localhost:8080/"
        },
        "id": "EVx51LpkUnZV",
        "outputId": "f7ac65ed-1484-457c-d950-dd73ed8577a9"
      },
      "execution_count": 21,
      "outputs": [
        {
          "output_type": "stream",
          "name": "stdout",
          "text": [
            "Hello My name is Jan Mathew Mendoza\n",
            "My student number is 202213385\n",
            "I study at Adamson University\n"
          ]
        }
      ]
    }
  ]
}