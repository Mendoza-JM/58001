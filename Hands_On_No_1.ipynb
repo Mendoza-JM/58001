{
  "nbformat": 4,
  "nbformat_minor": 0,
  "metadata": {
    "colab": {
      "provenance": [],
      "authorship_tag": "ABX9TyPIhVEx8uh6Cw8Iaih+JdUZ",
      "include_colab_link": true
    },
    "kernelspec": {
      "name": "python3",
      "display_name": "Python 3"
    },
    "language_info": {
      "name": "python"
    }
  },
  "cells": [
    {
      "cell_type": "markdown",
      "metadata": {
        "id": "view-in-github",
        "colab_type": "text"
      },
      "source": [
        "<a href=\"https://colab.research.google.com/github/Mendoza-JM/OOP-58001/blob/main/Hands_On_No_1.ipynb\" target=\"_parent\"><img src=\"https://colab.research.google.com/assets/colab-badge.svg\" alt=\"Open In Colab\"/></a>"
      ]
    },
    {
      "cell_type": "markdown",
      "source": [
        "1. display the name of 3 students (Student 1, Student 2, Student 3) and their grades\n",
        "2. Create a class name Person and attributes - std1, std2, std3, pre, mid, fin\n",
        "3. compute average each term using Grade()\n",
        "4. Information about students grade must be hidden"
      ],
      "metadata": {
        "id": "qdghTiPHayvj"
      }
    },
    {
      "cell_type": "code",
      "execution_count": 26,
      "metadata": {
        "colab": {
          "base_uri": "https://localhost:8080/"
        },
        "id": "LV-cFhGdaEDr",
        "outputId": "e35e4283-ea4e-4a51-d5f9-45d24f4aed40"
      },
      "outputs": [
        {
          "output_type": "stream",
          "name": "stdout",
          "text": [
            "JM , your prelim grade is 95\n",
            "JM , your midterm grade is 85\n",
            "JM , your finals grade is 80\n",
            "Your average Grade is 86\n",
            "\n",
            "MJ , your prelim grade is 75\n",
            "MJ , your midterm grade is 70\n",
            "MJ , your finals grade is 80\n",
            "Your average Grade is 75\n",
            "\n",
            "Miguel , your prelim grade is 90\n",
            "Miguel , your midterm grade is 70\n",
            "Miguel , your finals grade is 80\n",
            "Your average Grade is 80\n",
            "\n"
          ]
        }
      ],
      "source": [
        "class Person:\n",
        "  def __init__(self, std, pre, mid, fin):\n",
        "    self.__std = std\n",
        "    self.__pre = pre\n",
        "    self.__mid = mid\n",
        "    self.__fin = fin\n",
        "  def display(self):\n",
        "    print(self.__std, \", your prelim grade is\", self.__pre)\n",
        "    print(self.__std, \", your midterm grade is\", self.__mid)\n",
        "    print(self.__std, \", your finals grade is\", self.__fin)\n",
        "  def Grade(self):\n",
        "    print(\"Your average Grade is\", int((self.__pre + self.__mid + self.__fin) / 3))\n",
        "    print()\n",
        "    \n",
        "class std1(Person):\n",
        "  pass\n",
        "class std2(Person):\n",
        "  pass\n",
        "class std3(Person):\n",
        "  pass\n",
        "\n",
        "student1 = std1(\"JM\", 95, 85, 80)\n",
        "student1.display()   \n",
        "student1.Grade()\n",
        "\n",
        "student2 = std2(\"MJ\", 75, 70, 80)\n",
        "student2.display()   \n",
        "student2.Grade()\n",
        "\n",
        "student3 = std3(\"Miguel\", 90, 70, 80)\n",
        "student3.display()   \n",
        "student3.Grade()\n",
        "\n",
        "\n"
      ]
    }
  ]
}