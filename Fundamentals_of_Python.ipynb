{
  "nbformat": 4,
  "nbformat_minor": 0,
  "metadata": {
    "colab": {
      "provenance": [],
      "authorship_tag": "ABX9TyO0bMn6h7+tcaFEKO3mxnY+",
      "include_colab_link": true
    },
    "kernelspec": {
      "name": "python3",
      "display_name": "Python 3"
    },
    "language_info": {
      "name": "python"
    }
  },
  "cells": [
    {
      "cell_type": "markdown",
      "metadata": {
        "id": "view-in-github",
        "colab_type": "text"
      },
      "source": [
        "<a href=\"https://colab.research.google.com/github/Mendoza-JM/OOP-58001/blob/main/Fundamentals_of_Python.ipynb\" target=\"_parent\"><img src=\"https://colab.research.google.com/assets/colab-badge.svg\" alt=\"Open In Colab\"/></a>"
      ]
    },
    {
      "cell_type": "markdown",
      "source": [
        "**Fundamentals of Python**"
      ],
      "metadata": {
        "id": "_XVYJHrxRXb4"
      }
    },
    {
      "cell_type": "markdown",
      "source": [
        "**Indentation**"
      ],
      "metadata": {
        "id": "p9Kmflo_a9Bu"
      }
    },
    {
      "cell_type": "code",
      "source": [
        "if 5>2:\n",
        "  print(\"five is greater than 2\")"
      ],
      "metadata": {
        "colab": {
          "base_uri": "https://localhost:8080/"
        },
        "id": "nV72heXISPnD",
        "outputId": "06a0a249-7248-43df-c12f-e4de32ec7bf1"
      },
      "execution_count": 2,
      "outputs": [
        {
          "output_type": "stream",
          "name": "stdout",
          "text": [
            "five is greater than 2\n"
          ]
        }
      ]
    },
    {
      "cell_type": "markdown",
      "source": [
        "**Python Comment**"
      ],
      "metadata": {
        "id": "cOFq1DE5TpKa"
      }
    },
    {
      "cell_type": "code",
      "source": [
        "#This is a comment\n",
        "print(\"Hello, world!\")"
      ],
      "metadata": {
        "colab": {
          "base_uri": "https://localhost:8080/"
        },
        "id": "vkrcOaHxSc1U",
        "outputId": "3534bff1-9add-4d3f-b5f9-b67cb5b3072c"
      },
      "execution_count": 5,
      "outputs": [
        {
          "output_type": "stream",
          "name": "stdout",
          "text": [
            "Hello, world!\n"
          ]
        }
      ]
    },
    {
      "cell_type": "markdown",
      "source": [
        "**Python** **Variable** "
      ],
      "metadata": {
        "id": "Js1ZMBtyTvzD"
      }
    },
    {
      "cell_type": "code",
      "source": [
        "x=1\n",
        "\n",
        "#single variable with multiple values\n",
        "array=[1,2,3]\n",
        "print (array)\n",
        "\n",
        "#Multiple variable with single value\n",
        "a=b=c=\"Maria\"\n",
        "print(a)\n",
        "print(b)\n",
        "print(c)"
      ],
      "metadata": {
        "colab": {
          "base_uri": "https://localhost:8080/"
        },
        "id": "oDL8kZysTch9",
        "outputId": "9d04febc-fdb5-4614-dc29-b7fdabfd66f1"
      },
      "execution_count": 7,
      "outputs": [
        {
          "output_type": "stream",
          "name": "stdout",
          "text": [
            "[1, 2, 3]\n",
            "Maria\n",
            "Maria\n",
            "Maria\n"
          ]
        }
      ]
    },
    {
      "cell_type": "markdown",
      "source": [
        "**Casting**"
      ],
      "metadata": {
        "id": "kc1onvCpVasr"
      }
    },
    {
      "cell_type": "code",
      "source": [
        "n=int(4)\n",
        "print(n)"
      ],
      "metadata": {
        "colab": {
          "base_uri": "https://localhost:8080/"
        },
        "id": "7-Q8svNoVxJb",
        "outputId": "4fc54d15-46ab-47f1-dfd3-5ef3a8653823"
      },
      "execution_count": 10,
      "outputs": [
        {
          "output_type": "stream",
          "name": "stdout",
          "text": [
            "4\n"
          ]
        }
      ]
    },
    {
      "cell_type": "markdown",
      "source": [
        "**Type()function**"
      ],
      "metadata": {
        "id": "I_W_-MuHVfBL"
      }
    },
    {
      "cell_type": "code",
      "source": [
        "c=\"sally\"\n",
        "d=(5.6)\n",
        "\n",
        "print (type(c))\n",
        "print (type(d))\n"
      ],
      "metadata": {
        "colab": {
          "base_uri": "https://localhost:8080/"
        },
        "id": "16PGuJmxVfOK",
        "outputId": "9dbe8919-8e06-4d23-81db-10d02e99d7b4"
      },
      "execution_count": 9,
      "outputs": [
        {
          "output_type": "stream",
          "name": "stdout",
          "text": [
            "<class 'str'>\n",
            "<class 'float'>\n"
          ]
        }
      ]
    }
  ]
}