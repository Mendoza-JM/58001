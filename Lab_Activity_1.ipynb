{
  "nbformat": 4,
  "nbformat_minor": 0,
  "metadata": {
    "colab": {
      "provenance": [],
      "authorship_tag": "ABX9TyOwQeyy9JaCVf4W/r61/YTU",
      "include_colab_link": true
    },
    "kernelspec": {
      "name": "python3",
      "display_name": "Python 3"
    },
    "language_info": {
      "name": "python"
    }
  },
  "cells": [
    {
      "cell_type": "markdown",
      "metadata": {
        "id": "view-in-github",
        "colab_type": "text"
      },
      "source": [
        "<a href=\"https://colab.research.google.com/github/Mendoza-JM/OOP-58001/blob/main/Lab_Activity_1.ipynb\" target=\"_parent\"><img src=\"https://colab.research.google.com/assets/colab-badge.svg\" alt=\"Open In Colab\"/></a>"
      ]
    },
    {
      "cell_type": "markdown",
      "source": [
        "**Lab Activity 1**"
      ],
      "metadata": {
        "id": "1m37hhM8NeGd"
      }
    },
    {
      "cell_type": "code",
      "execution_count": 4,
      "metadata": {
        "colab": {
          "base_uri": "https://localhost:8080/"
        },
        "id": "dDDeNB_jLgD8",
        "outputId": "2b8a098b-63e3-47ae-e6a0-8e427088ce95"
      },
      "outputs": [
        {
          "output_type": "stream",
          "name": "stdout",
          "text": [
            "sum = 210\n",
            "Average = 10.5\n"
          ]
        }
      ],
      "source": [
        "n = 20\n",
        "total_numbers = n\n",
        "sum = 0\n",
        "average = 0\n",
        "\n",
        "while n>=0:\n",
        "  sum += n\n",
        "  n -= 1\n",
        "else:\n",
        "  print(\"sum =\", sum)\n",
        "\n",
        "average = sum/total_numbers\n",
        "print(\"Average =\", average)"
      ]
    }
  ]
}