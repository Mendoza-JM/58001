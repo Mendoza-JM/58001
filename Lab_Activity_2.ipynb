{
  "nbformat": 4,
  "nbformat_minor": 0,
  "metadata": {
    "colab": {
      "provenance": [],
      "authorship_tag": "ABX9TyMO0p3cqYUGs28FT4s6HiLo",
      "include_colab_link": true
    },
    "kernelspec": {
      "name": "python3",
      "display_name": "Python 3"
    },
    "language_info": {
      "name": "python"
    }
  },
  "cells": [
    {
      "cell_type": "markdown",
      "metadata": {
        "id": "view-in-github",
        "colab_type": "text"
      },
      "source": [
        "<a href=\"https://colab.research.google.com/github/Mendoza-JM/OOP-58001/blob/main/Lab_Activity_2.ipynb\" target=\"_parent\"><img src=\"https://colab.research.google.com/assets/colab-badge.svg\" alt=\"Open In Colab\"/></a>"
      ]
    },
    {
      "cell_type": "code",
      "execution_count": 2,
      "metadata": {
        "colab": {
          "base_uri": "https://localhost:8080/"
        },
        "id": "OtT--A3XUXRR",
        "outputId": "e2ca52ae-a686-4a03-c335-0d8a4aecd2dc"
      },
      "outputs": [
        {
          "output_type": "stream",
          "name": "stdout",
          "text": [
            "Please enter the radius of your desired circle:25\n",
            "The perimeter of the circle is 157.07963267948966\n",
            "The area of the circle is 1963.4954084936207\n"
          ]
        }
      ],
      "source": [
        "import math\n",
        "\n",
        "class circle:\n",
        "  def __init__ (self,radius):\n",
        "    self.radius = radius\n",
        "    self.pi = math.pi\n",
        "  def perimeter(self):\n",
        "    return 2*self.pi*self.radius\n",
        "  def area(self):\n",
        "    return self.pi*(self.radius**2)\n",
        "  def Display(self):\n",
        "    print(\"The perimeter of the circle is\", self.perimeter())\n",
        "    print(\"The area of the circle is\", self.area())\n",
        "\n",
        "answer = circle(float(input(\"Please enter the radius of your desired circle:\")))\n",
        "answer.Display()"
      ]
    }
  ]
}