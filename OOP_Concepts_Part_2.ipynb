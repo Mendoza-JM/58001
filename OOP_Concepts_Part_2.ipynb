{
  "nbformat": 4,
  "nbformat_minor": 0,
  "metadata": {
    "colab": {
      "provenance": [],
      "authorship_tag": "ABX9TyMOzadboYQKTP3h9QQfzX6j",
      "include_colab_link": true
    },
    "kernelspec": {
      "name": "python3",
      "display_name": "Python 3"
    },
    "language_info": {
      "name": "python"
    }
  },
  "cells": [
    {
      "cell_type": "markdown",
      "metadata": {
        "id": "view-in-github",
        "colab_type": "text"
      },
      "source": [
        "<a href=\"https://colab.research.google.com/github/Mendoza-JM/OOP-58001/blob/main/OOP_Concepts_Part_2.ipynb\" target=\"_parent\"><img src=\"https://colab.research.google.com/assets/colab-badge.svg\" alt=\"Open In Colab\"/></a>"
      ]
    },
    {
      "cell_type": "markdown",
      "source": [
        "***Class with Multiple Objects***"
      ],
      "metadata": {
        "id": "l-zykICUWYEW"
      }
    },
    {
      "cell_type": "code",
      "execution_count": 9,
      "metadata": {
        "colab": {
          "base_uri": "https://localhost:8080/"
        },
        "id": "_EWBFwDWWSxJ",
        "outputId": "9d48dbff-b692-4f1d-9d83-67d273b07b4d"
      },
      "outputs": [
        {
          "output_type": "stream",
          "name": "stdout",
          "text": [
            "Griffon Vulture flies above the clouds\n",
            "Common Crane flies above the clouds\n",
            "Emu is the national bird of the Philippines\n"
          ]
        }
      ],
      "source": [
        "class Birds:\n",
        "  def __init__(self,bird_name):\n",
        "    self.bird_name = bird_name\n",
        "  def flying_birds(self):\n",
        "    print(self.bird_name, \"flies above the clouds\")\n",
        "  def non_flying_birds(self):\n",
        "    print(self.bird_name,\"is the national bird of the Philippines\")\n",
        "\n",
        "vulture = Birds(\"Griffon Vulture\")\n",
        "crane = Birds(\"Common Crane\")\n",
        "emu = Birds(\"Emu\")\n",
        "\n",
        "vulture.flying_birds()\n",
        "crane.flying_birds()\n",
        "emu.non_flying_birds()   "
      ]
    },
    {
      "cell_type": "markdown",
      "source": [
        "**Encapsulation**"
      ],
      "metadata": {
        "id": "nkbZdz_pYqd-"
      }
    },
    {
      "cell_type": "code",
      "source": [
        "class foo:\n",
        "  def __init__(self, a, b):\n",
        "    self.__a = a\n",
        "    self.__b = b\n",
        "  def add(self):\n",
        "    return self.__a+self.__b\n",
        "  \n",
        "foo_object = foo(3, 4)\n",
        "foo_object.add()\n",
        "foo_object.__a = 5\n",
        "foo_object.add()"
      ],
      "metadata": {
        "colab": {
          "base_uri": "https://localhost:8080/"
        },
        "id": "5hSvOS-5ZMHU",
        "outputId": "8fc0643a-2de8-474d-f953-7f6c75e3851a"
      },
      "execution_count": 11,
      "outputs": [
        {
          "output_type": "execute_result",
          "data": {
            "text/plain": [
              "7"
            ]
          },
          "metadata": {},
          "execution_count": 11
        }
      ]
    },
    {
      "cell_type": "code",
      "source": [
        "class Counter:\n",
        "  def __init__(self):\n",
        "    self.current = 0\n",
        "  def increment(self):\n",
        "    self.current += 1\n",
        "  def value(self):\n",
        "    return self.current\n",
        "  def reset(self):\n",
        "    self.current= 0\n",
        "  def display(self):\n",
        "    print(self.current)\n",
        "\n",
        "output = Counter()\n",
        "output.display()\n",
        "output.increment()\n",
        "output.display()\n",
        "output.reset()\n",
        "output.display()"
      ],
      "metadata": {
        "colab": {
          "base_uri": "https://localhost:8080/"
        },
        "id": "CgD26Ar4cHP1",
        "outputId": "7a34bb11-3ecf-4ec7-f40d-3163df1ba1d6"
      },
      "execution_count": 47,
      "outputs": [
        {
          "output_type": "stream",
          "name": "stdout",
          "text": [
            "0\n",
            "1\n",
            "0\n"
          ]
        }
      ]
    },
    {
      "cell_type": "markdown",
      "source": [
        "**Inheritance**"
      ],
      "metadata": {
        "id": "xSN4uqSQd_mx"
      }
    },
    {
      "cell_type": "code",
      "source": [
        "class Person:\n",
        "  def __init__(self, name, birthday):\n",
        "    self.name = name\n",
        "    self.birthday = birthday\n",
        "  def display(self):\n",
        "    print(\"My name is\", self.name)\n",
        "    print(\"My birthdya is on\", self.birthday)\n",
        "class Student(Person):\n",
        "  pass\n",
        "class Teacher(Person):\n",
        "  pass\n",
        "\n",
        "student = Student(\"JM\", \"January 15\")\n",
        "student.display()\n",
        "teacher = Teacher(\"MJ\", \"January 16\")\n",
        "teacher.display()"
      ],
      "metadata": {
        "colab": {
          "base_uri": "https://localhost:8080/"
        },
        "id": "Dl3GLuPIe9Tp",
        "outputId": "84145643-807a-49c8-b2ca-4468f85ea3d5"
      },
      "execution_count": 32,
      "outputs": [
        {
          "output_type": "stream",
          "name": "stdout",
          "text": [
            "My name is JM\n",
            "My birthdya is on January 15\n",
            "My name is MJ\n",
            "My birthdya is on January 16\n"
          ]
        }
      ]
    },
    {
      "cell_type": "markdown",
      "source": [
        "Create a class name Shapes (5 shapes)\n",
        "attributes sides\n",
        "create a function/method that displays the no. of sides of each shape\n",
        "apply inheritance and encapsulation"
      ],
      "metadata": {
        "id": "XC2y25ZthGl4"
      }
    },
    {
      "cell_type": "code",
      "source": [
        "class shapes:\n",
        "  def __init__(self, name, sides):\n",
        "    self.__name = name\n",
        "    self.__sides = sides\n",
        "  def display(self):\n",
        "    print(\"A\", self.__name, \"has\", self.__sides, \"sides\")\n",
        "  \n",
        "class Quadrilateral(shapes):\n",
        "  pass\n",
        "class Triangle(shapes):\n",
        "  pass\n",
        "class Decagon(shapes):\n",
        "  pass\n",
        "class Octagon(shapes):\n",
        "  pass\n",
        "class Hexagon(shapes):\n",
        "  pass\n",
        "\n",
        "quadrilateral = Quadrilateral(\"Quadrilateral\", \"4\")\n",
        "quadrilateral.display()\n",
        "triangle = Triangle(\"Triangle\", \"3\")\n",
        "triangle.display() \n",
        "decagon = Decagon(\"Decagon\", \"10\")\n",
        "decagon.display()\n",
        "octagon = Octagon(\"Octagon\", \"8\")\n",
        "octagon.display()\n",
        "hexagon = Hexagon(\"Hexagon\", \"6\")\n",
        "hexagon.display()\n",
        "\n",
        "triangle.shape = \"octagon\"\n",
        "triangle.display()\n",
        "decagon.side = \"11\"\n",
        "decagon.display()"
      ],
      "metadata": {
        "colab": {
          "base_uri": "https://localhost:8080/"
        },
        "id": "UwYGCN2qiE_b",
        "outputId": "4196118c-1148-49af-f085-2b5e0094f9ef"
      },
      "execution_count": 41,
      "outputs": [
        {
          "output_type": "stream",
          "name": "stdout",
          "text": [
            "A Quadrilateral has 4 sides\n",
            "A Triangle has 3 sides\n",
            "A Decagon has 10 sides\n",
            "A Octagon has 8 sides\n",
            "A Hexagon has 6 sides\n",
            "A Triangle has 3 sides\n",
            "A Decagon has 10 sides\n"
          ]
        }
      ]
    }
  ]
}