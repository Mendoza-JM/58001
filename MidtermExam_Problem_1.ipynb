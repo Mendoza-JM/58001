{
  "nbformat": 4,
  "nbformat_minor": 0,
  "metadata": {
    "colab": {
      "provenance": [],
      "authorship_tag": "ABX9TyOuU/7Uo28Cw5756NPy2Q9C",
      "include_colab_link": true
    },
    "kernelspec": {
      "name": "python3",
      "display_name": "Python 3"
    },
    "language_info": {
      "name": "python"
    }
  },
  "cells": [
    {
      "cell_type": "markdown",
      "metadata": {
        "id": "view-in-github",
        "colab_type": "text"
      },
      "source": [
        "<a href=\"https://colab.research.google.com/github/Mendoza-JM/OOP-58001/blob/main/MidtermExam_Problem_1.ipynb\" target=\"_parent\"><img src=\"https://colab.research.google.com/assets/colab-badge.svg\" alt=\"Open In Colab\"/></a>"
      ]
    },
    {
      "cell_type": "code",
      "execution_count": 1,
      "metadata": {
        "colab": {
          "base_uri": "https://localhost:8080/"
        },
        "id": "O-ENvSC9IsPp",
        "outputId": "904ed425-1e99-4ca9-e7f8-db1c719612de"
      },
      "outputs": [
        {
          "output_type": "stream",
          "name": "stdout",
          "text": [
            "Please enter the radius of your desired circle:1\n",
            "The perimeter of the circle is 6.283185307179586\n",
            "The area of the circle is 3.141592653589793\n"
          ]
        }
      ],
      "source": [
        "import math\n",
        "\n",
        "class circle:\n",
        "  def __init__ (self,radius):\n",
        "    self.radius = radius\n",
        "    self.pi = math.pi\n",
        "  def perimeter(self):\n",
        "    return 2*self.pi*self.radius\n",
        "  def area(self):\n",
        "    return self.pi*(self.radius**2)\n",
        "  def Display(self):\n",
        "    print(\"The perimeter of the circle is\", self.perimeter())\n",
        "    print(\"The area of the circle is\", self.area())\n",
        "\n",
        "answer = circle(float(input(\"Please enter the radius of your desired circle:\")))\n",
        "answer.Display()"
      ]
    },
    {
      "cell_type": "code",
      "source": [
        "import math\n",
        "\n",
        "class circle:\n",
        "  def __init__ (self,diameter):\n",
        "    self.diameter = diameter\n",
        "    self.pi = math.pi\n",
        "  def perimeter(self):\n",
        "    return 2*self.pi*(self.diameter/2)\n",
        "  def area(self):\n",
        "    return self.pi*((self.diameter/2)**2)\n",
        "  def Display(self):\n",
        "    print(\"The perimeter of the circle is\", self.perimeter())\n",
        "    print(\"The area of the circle is\", self.area())\n",
        "\n",
        "answer = circle(float(input(\"Please enter the diameter of your desired circle:\")))\n",
        "answer.Display()"
      ],
      "metadata": {
        "colab": {
          "base_uri": "https://localhost:8080/"
        },
        "id": "FIr78ysSI8Sx",
        "outputId": "6e22dc9f-f575-49b2-ddc5-6b35ca02de2c"
      },
      "execution_count": 2,
      "outputs": [
        {
          "output_type": "stream",
          "name": "stdout",
          "text": [
            "Please enter the diameter of your desired circle:2\n",
            "The perimeter of the circle is 6.283185307179586\n",
            "The area of the circle is 3.141592653589793\n"
          ]
        }
      ]
    }
  ]
}